{
  "nbformat": 4,
  "nbformat_minor": 0,
  "metadata": {
    "colab": {
      "provenance": [],
      "authorship_tag": "ABX9TyOH2OClFj1IcOoDEM0VWlFL",
      "include_colab_link": true
    },
    "kernelspec": {
      "name": "python3",
      "display_name": "Python 3"
    },
    "language_info": {
      "name": "python"
    }
  },
  "cells": [
    {
      "cell_type": "markdown",
      "metadata": {
        "id": "view-in-github",
        "colab_type": "text"
      },
      "source": [
        "<a href=\"https://colab.research.google.com/github/luigiselmi/algorithms/blob/master/multiclass_classification.ipynb\" target=\"_parent\"><img src=\"https://colab.research.google.com/assets/colab-badge.svg\" alt=\"Open In Colab\"/></a>"
      ]
    },
    {
      "cell_type": "markdown",
      "source": [
        "# Multiclass classification\n",
        "In this notebook we will build a neural network to classify newwires from Reuters among 46 classes. Like the IMDB dataset, the link to download the Reuters dataset is directly available from Tensorflow. As for the IMDB dataset we limit the number of unique words to the 10k most used."
      ],
      "metadata": {
        "id": "njnFq4Fm0pXG"
      }
    },
    {
      "cell_type": "code",
      "execution_count": 1,
      "metadata": {
        "colab": {
          "base_uri": "https://localhost:8080/"
        },
        "id": "MBnyB34hz6XF",
        "outputId": "1eabc065-782d-41b6-90de-01acdb0bd9e6"
      },
      "outputs": [
        {
          "output_type": "stream",
          "name": "stdout",
          "text": [
            "Downloading data from https://storage.googleapis.com/tensorflow/tf-keras-datasets/reuters.npz\n",
            "2110848/2110848 [==============================] - 0s 0us/step\n"
          ]
        }
      ],
      "source": [
        "from tensorflow.keras.datasets import reuters\n",
        "(train_data, train_labels), (test_data, test_labels) = reuters.load_data(num_words=10000)"
      ]
    },
    {
      "cell_type": "code",
      "source": [
        "print('Number of newswires for training: {:d}'.format(len(train_data)))"
      ],
      "metadata": {
        "colab": {
          "base_uri": "https://localhost:8080/"
        },
        "id": "0M5YRHkK1vmP",
        "outputId": "3650cd02-44d5-4766-8ace-e23d9183aa0e"
      },
      "execution_count": 3,
      "outputs": [
        {
          "output_type": "stream",
          "name": "stdout",
          "text": [
            "Number of newswires for training: 8982\n"
          ]
        }
      ]
    },
    {
      "cell_type": "code",
      "source": [
        "print('Number of newswires for test: {:d}'.format(len(test_data)))"
      ],
      "metadata": {
        "colab": {
          "base_uri": "https://localhost:8080/"
        },
        "id": "WhWOUm7c2DCP",
        "outputId": "bc213e69-c7ba-45b5-bddf-8fca0bfadfb4"
      },
      "execution_count": 4,
      "outputs": [
        {
          "output_type": "stream",
          "name": "stdout",
          "text": [
            "Number of newswires for test: 2246\n"
          ]
        }
      ]
    },
    {
      "cell_type": "markdown",
      "source": [
        "Each newswire is provided as an array of integers, with each integer representing a word from a dictionary"
      ],
      "metadata": {
        "id": "PoJgp0w22sTJ"
      }
    },
    {
      "cell_type": "code",
      "source": [
        "print(train_data[0][:10])"
      ],
      "metadata": {
        "colab": {
          "base_uri": "https://localhost:8080/"
        },
        "id": "xY06lIOp2WWt",
        "outputId": "73dc83f0-f88e-40bf-be5b-644a2485afc0"
      },
      "execution_count": 9,
      "outputs": [
        {
          "output_type": "stream",
          "name": "stdout",
          "text": [
            "[1, 2, 2, 8, 43, 10, 447, 5, 25, 207]\n"
          ]
        }
      ]
    },
    {
      "cell_type": "markdown",
      "source": [
        "We can reconstruct the text from a newswire by inverting the dictionary"
      ],
      "metadata": {
        "id": "ESMgdfBB3Vv0"
      }
    },
    {
      "cell_type": "code",
      "source": [
        "word_index = reuters.get_word_index()\n",
        "reverse_word_index = dict([(value, key) for (key, value) in word_index.items()])"
      ],
      "metadata": {
        "colab": {
          "base_uri": "https://localhost:8080/"
        },
        "id": "vUFMDMUk2eJA",
        "outputId": "ac8de587-772a-466c-bdd4-37c482c02a88"
      },
      "execution_count": 10,
      "outputs": [
        {
          "output_type": "stream",
          "name": "stdout",
          "text": [
            "Downloading data from https://storage.googleapis.com/tensorflow/tf-keras-datasets/reuters_word_index.json\n",
            "550378/550378 [==============================] - 0s 0us/step\n"
          ]
        }
      ]
    },
    {
      "cell_type": "code",
      "source": [
        "decoded_newswire = \" \".join([reverse_word_index.get(i - 3, '?') for i in train_data[0]])\n",
        "decoded_newswire"
      ],
      "metadata": {
        "colab": {
          "base_uri": "https://localhost:8080/",
          "height": 70
        },
        "id": "Ua5y3y-y3sGc",
        "outputId": "c78d28b4-b2f0-44a7-d490-5ee0c9d1060e"
      },
      "execution_count": 16,
      "outputs": [
        {
          "output_type": "execute_result",
          "data": {
            "text/plain": [
              "'? ? ? said as a result of its december acquisition of space co it expects earnings per share in 1987 of 1 15 to 1 30 dlrs per share up from 70 cts in 1986 the company said pretax net should rise to nine to 10 mln dlrs from six mln dlrs in 1986 and rental operation revenues to 19 to 22 mln dlrs from 12 5 mln dlrs it said cash flow per share this year should be 2 50 to three dlrs reuter 3'"
            ],
            "application/vnd.google.colaboratory.intrinsic+json": {
              "type": "string"
            }
          },
          "metadata": {},
          "execution_count": 16
        }
      ]
    },
    {
      "cell_type": "code",
      "source": [
        "train_labels[0]"
      ],
      "metadata": {
        "colab": {
          "base_uri": "https://localhost:8080/"
        },
        "id": "lP1le2Im3xDp",
        "outputId": "a43bdd3f-8a51-476e-c07a-a5d96b52250f"
      },
      "execution_count": 17,
      "outputs": [
        {
          "output_type": "execute_result",
          "data": {
            "text/plain": [
              "3"
            ]
          },
          "metadata": {},
          "execution_count": 17
        }
      ]
    },
    {
      "cell_type": "markdown",
      "source": [
        "## Multi-hot encoding\n",
        "We map the training and test data into a 10k dimensionality space using the multi-hot encoding technique for which any word in our subset of the dictionary reresent a dimension and we set the coordinate of a vector representation to 1 if the word is used in the newswire and to 0 if it is not used."
      ],
      "metadata": {
        "id": "fmnYzv2e58VJ"
      }
    },
    {
      "cell_type": "code",
      "source": [
        "import numpy as np\n",
        "def vectorize_sequences(sequences, dimension=10000):\n",
        "    results = np.zeros((len(sequences), dimension))\n",
        "    for i, sequence in enumerate(sequences):\n",
        "        for j in sequence:\n",
        "            results[i, j] = 1.\n",
        "    return results\n",
        "x_train = vectorize_sequences(train_data)\n",
        "x_test = vectorize_sequences(test_data)\n",
        "x_train[0, :10]"
      ],
      "metadata": {
        "colab": {
          "base_uri": "https://localhost:8080/"
        },
        "id": "la1pZDbs4Pbc",
        "outputId": "4278374c-4f0d-4c03-b4dc-36642ced3421"
      },
      "execution_count": 23,
      "outputs": [
        {
          "output_type": "execute_result",
          "data": {
            "text/plain": [
              "array([0., 1., 1., 0., 1., 1., 1., 1., 1., 1.])"
            ]
          },
          "metadata": {},
          "execution_count": 23
        }
      ]
    },
    {
      "cell_type": "markdown",
      "source": [
        "We do the same for the 46 labels so that each category is represented by a 46 dimensional vector with one coordinate set to 1 and all the rest to 0."
      ],
      "metadata": {
        "id": "mtc6hbN866jH"
      }
    },
    {
      "cell_type": "code",
      "source": [
        "from tensorflow.keras.utils import to_categorical\n",
        "y_train = to_categorical(train_labels)\n",
        "y_test = to_categorical(test_labels)"
      ],
      "metadata": {
        "id": "0ZUAM6go6ttj"
      },
      "execution_count": 19,
      "outputs": []
    },
    {
      "cell_type": "code",
      "source": [
        "y_train[6]"
      ],
      "metadata": {
        "colab": {
          "base_uri": "https://localhost:8080/"
        },
        "id": "PeQxtUXp6-hg",
        "outputId": "7e3a92e6-299f-4e37-d1ef-30b7d698adb3"
      },
      "execution_count": 22,
      "outputs": [
        {
          "output_type": "execute_result",
          "data": {
            "text/plain": [
              "array([0., 0., 0., 0., 1., 0., 0., 0., 0., 0., 0., 0., 0., 0., 0., 0., 0.,\n",
              "       0., 0., 0., 0., 0., 0., 0., 0., 0., 0., 0., 0., 0., 0., 0., 0., 0.,\n",
              "       0., 0., 0., 0., 0., 0., 0., 0., 0., 0., 0., 0.], dtype=float32)"
            ]
          },
          "metadata": {},
          "execution_count": 22
        }
      ]
    },
    {
      "cell_type": "markdown",
      "source": [
        "## Multiclass classifier\n",
        "The task is similar to the binary classification where we used two layers with 16 units each to classify reviews into two classes. Since here we have to classify newswires in a larger space of dimensionality 46 we'll use more units in the intermediate layers and a final layer called softmax to compute the probability for a newswire to belong to one of the 46 classes. At each layer the dimensionality of the ouput should not be lower than the dimensionality of the output of the network, 46 in our case, otherwise that layer would behave like a bottleneck."
      ],
      "metadata": {
        "id": "xDURJLq18qSH"
      }
    },
    {
      "cell_type": "code",
      "source": [
        "from tensorflow import keras\n",
        "from tensorflow.keras import layers\n",
        "model = keras.Sequential([\n",
        "  layers.Dense(64, activation='relu'),\n",
        "  layers.Dense(64, activation='relu'),\n",
        "  layers.Dense(46, activation='softmax')\n",
        "])"
      ],
      "metadata": {
        "id": "pYPzWRp67Adv"
      },
      "execution_count": 25,
      "outputs": []
    },
    {
      "cell_type": "markdown",
      "source": [
        "For the loss function we use the categorical crossentropy that misures the distance between the probability distribution of the model and the probability distribution of the labels. So the goal of the minimization algorithm is to change the network parameters to reduce the distance between those two probability distributions. The metrics for the performance will be the same as for the binary classification: accuracy."
      ],
      "metadata": {
        "id": "24PW9ApI_BYv"
      }
    },
    {
      "cell_type": "code",
      "source": [
        "model.compile(optimizer='rmsprop',\n",
        "              loss='categorical_crossentropy',\n",
        "              metrics=['accuracy'])"
      ],
      "metadata": {
        "id": "IHmPHx0i91Er"
      },
      "execution_count": 26,
      "outputs": []
    },
    {
      "cell_type": "markdown",
      "source": [
        "## Model validation\n",
        "We set apart 1k samples from the training set for validation."
      ],
      "metadata": {
        "id": "1EF_rNO6AVMz"
      }
    },
    {
      "cell_type": "code",
      "source": [
        "x_val = x_train[:1000]\n",
        "partial_x_train = x_train[1000:]\n",
        "y_val = y_train[:1000]\n",
        "partial_y_train = y_train[1000:]"
      ],
      "metadata": {
        "id": "lydk3y-OAN_I"
      },
      "execution_count": 27,
      "outputs": []
    },
    {
      "cell_type": "markdown",
      "source": [
        "After the architecture of the network has been defined, the model configured, and the training data prepared, we are ready to start the training"
      ],
      "metadata": {
        "id": "7P7_omBtAtaj"
      }
    },
    {
      "cell_type": "code",
      "source": [
        "history = model.fit(partial_x_train,\n",
        "                    partial_y_train,\n",
        "                    epochs=20,\n",
        "                    batch_size=512,\n",
        "                    validation_data=(x_val, y_val))"
      ],
      "metadata": {
        "colab": {
          "base_uri": "https://localhost:8080/"
        },
        "id": "rUlBLYO-AnN8",
        "outputId": "7f1b2bb1-6a10-43c9-8bbf-bd89bdaf4403"
      },
      "execution_count": 28,
      "outputs": [
        {
          "output_type": "stream",
          "name": "stdout",
          "text": [
            "Epoch 1/20\n",
            "16/16 [==============================] - 3s 121ms/step - loss: 2.7172 - accuracy: 0.4782 - val_loss: 1.8398 - val_accuracy: 0.6010\n",
            "Epoch 2/20\n",
            "16/16 [==============================] - 1s 50ms/step - loss: 1.5616 - accuracy: 0.6642 - val_loss: 1.4004 - val_accuracy: 0.6960\n",
            "Epoch 3/20\n",
            "16/16 [==============================] - 1s 57ms/step - loss: 1.2019 - accuracy: 0.7377 - val_loss: 1.2199 - val_accuracy: 0.7350\n",
            "Epoch 4/20\n",
            "16/16 [==============================] - 1s 54ms/step - loss: 0.9818 - accuracy: 0.7900 - val_loss: 1.1124 - val_accuracy: 0.7550\n",
            "Epoch 5/20\n",
            "16/16 [==============================] - 1s 54ms/step - loss: 0.8161 - accuracy: 0.8255 - val_loss: 1.0243 - val_accuracy: 0.7810\n",
            "Epoch 6/20\n",
            "16/16 [==============================] - 1s 52ms/step - loss: 0.6848 - accuracy: 0.8535 - val_loss: 0.9855 - val_accuracy: 0.7860\n",
            "Epoch 7/20\n",
            "16/16 [==============================] - 1s 50ms/step - loss: 0.5753 - accuracy: 0.8786 - val_loss: 0.9486 - val_accuracy: 0.8030\n",
            "Epoch 8/20\n",
            "16/16 [==============================] - 1s 53ms/step - loss: 0.4934 - accuracy: 0.8949 - val_loss: 0.9089 - val_accuracy: 0.8110\n",
            "Epoch 9/20\n",
            "16/16 [==============================] - 1s 49ms/step - loss: 0.4126 - accuracy: 0.9174 - val_loss: 0.8958 - val_accuracy: 0.8110\n",
            "Epoch 10/20\n",
            "16/16 [==============================] - 1s 49ms/step - loss: 0.3568 - accuracy: 0.9250 - val_loss: 0.9273 - val_accuracy: 0.8000\n",
            "Epoch 11/20\n",
            "16/16 [==============================] - 1s 78ms/step - loss: 0.3043 - accuracy: 0.9361 - val_loss: 0.9018 - val_accuracy: 0.8180\n",
            "Epoch 12/20\n",
            "16/16 [==============================] - 1s 83ms/step - loss: 0.2684 - accuracy: 0.9414 - val_loss: 0.9250 - val_accuracy: 0.8070\n",
            "Epoch 13/20\n",
            "16/16 [==============================] - 1s 89ms/step - loss: 0.2351 - accuracy: 0.9454 - val_loss: 0.9215 - val_accuracy: 0.8080\n",
            "Epoch 14/20\n",
            "16/16 [==============================] - 1s 57ms/step - loss: 0.2126 - accuracy: 0.9494 - val_loss: 0.9724 - val_accuracy: 0.7950\n",
            "Epoch 15/20\n",
            "16/16 [==============================] - 1s 52ms/step - loss: 0.1909 - accuracy: 0.9510 - val_loss: 0.9364 - val_accuracy: 0.8080\n",
            "Epoch 16/20\n",
            "16/16 [==============================] - 1s 48ms/step - loss: 0.1771 - accuracy: 0.9531 - val_loss: 0.9498 - val_accuracy: 0.7980\n",
            "Epoch 17/20\n",
            "16/16 [==============================] - 1s 49ms/step - loss: 0.1640 - accuracy: 0.9531 - val_loss: 0.9330 - val_accuracy: 0.8090\n",
            "Epoch 18/20\n",
            "16/16 [==============================] - 1s 50ms/step - loss: 0.1480 - accuracy: 0.9557 - val_loss: 0.9440 - val_accuracy: 0.8100\n",
            "Epoch 19/20\n",
            "16/16 [==============================] - 1s 51ms/step - loss: 0.1438 - accuracy: 0.9573 - val_loss: 0.9457 - val_accuracy: 0.8150\n",
            "Epoch 20/20\n",
            "16/16 [==============================] - 1s 49ms/step - loss: 0.1318 - accuracy: 0.9577 - val_loss: 1.0139 - val_accuracy: 0.8000\n"
          ]
        }
      ]
    },
    {
      "cell_type": "markdown",
      "source": [
        "## Model performance\n",
        "We visualize the performance of the model on the training and, more importantly, on the validation set."
      ],
      "metadata": {
        "id": "ggzI8BE1BfvM"
      }
    },
    {
      "cell_type": "code",
      "source": [
        "import matplotlib.pyplot as plt\n",
        "loss = history.history['loss']\n",
        "val_loss = history.history['val_loss']\n",
        "epochs = range(1, len(loss) + 1)\n",
        "plt.plot(epochs, loss, 'bo', label='Training loss')\n",
        "plt.plot(epochs, val_loss, \"b\", label='Validation loss')\n",
        "plt.title('Training and validation loss')\n",
        "plt.xlabel('Epochs')\n",
        "plt.ylabel('Loss')\n",
        "plt.legend()\n",
        "plt.show()"
      ],
      "metadata": {
        "colab": {
          "base_uri": "https://localhost:8080/",
          "height": 472
        },
        "id": "C8o7we0vBMB5",
        "outputId": "66784bd8-f1c2-42df-ffc0-d1ba82898585"
      },
      "execution_count": 30,
      "outputs": [
        {
          "output_type": "display_data",
          "data": {
            "text/plain": [
              "<Figure size 640x480 with 1 Axes>"
            ],
            "image/png": "[encoded data removed]"
          },
          "metadata": {}
        }
      ]
    },
    {
      "cell_type": "code",
      "source": [
        "plt.clf()\n",
        "acc = history.history['accuracy']\n",
        "val_acc = history.history['val_accuracy']\n",
        "plt.plot(epochs, acc, \"bo\", label='Training accuracy')\n",
        "plt.plot(epochs, val_acc, \"b\", label='Validation accuracy')\n",
        "plt.title('Training and validation accuracy')\n",
        "plt.xlabel('Epochs')\n",
        "plt.ylabel('Accuracy')\n",
        "plt.legend()\n",
        "plt.show()"
      ],
      "metadata": {
        "colab": {
          "base_uri": "https://localhost:8080/",
          "height": 472
        },
        "id": "T6Hxtjb5B6Tz",
        "outputId": "726c2e23-c005-4a55-bc29-c2d580d8733f"
      },
      "execution_count": 31,
      "outputs": [
        {
          "output_type": "display_data",
          "data": {
            "text/plain": [
              "<Figure size 640x480 with 1 Axes>"
            ],
            "image/png": "[encoded data removed]"
          },
          "metadata": {}
        }
      ]
    },
    {
      "cell_type": "markdown",
      "source": [
        "From the plots we can see that the model loss and accuracy does not improve after 10 eopoch so we instantiate again the same model but stopping after 10 epochs"
      ],
      "metadata": {
        "id": "R2hZxwtLCnj-"
      }
    },
    {
      "cell_type": "code",
      "source": [
        "model = keras.Sequential([\n",
        "  layers.Dense(64, activation='relu'),\n",
        "  layers.Dense(64, activation='relu'),\n",
        "  layers.Dense(46, activation='softmax')\n",
        "])\n",
        "model.compile(optimizer='rmsprop',\n",
        "              loss='categorical_crossentropy',\n",
        "              metrics=['accuracy'])\n",
        "history = model.fit(partial_x_train,\n",
        "                    partial_y_train,\n",
        "                    epochs=10,\n",
        "                    batch_size=512,\n",
        "                    validation_data=(x_val, y_val))"
      ],
      "metadata": {
        "colab": {
          "base_uri": "https://localhost:8080/"
        },
        "id": "Jv_eQJ0ICSTI",
        "outputId": "d2550344-9ac6-437c-d17c-db1b16a0e08b"
      },
      "execution_count": 33,
      "outputs": [
        {
          "output_type": "stream",
          "name": "stdout",
          "text": [
            "Epoch 1/10\n",
            "16/16 [==============================] - 2s 69ms/step - loss: 2.7405 - accuracy: 0.4851 - val_loss: 1.8847 - val_accuracy: 0.6080\n",
            "Epoch 2/10\n",
            "16/16 [==============================] - 1s 52ms/step - loss: 1.5740 - accuracy: 0.6741 - val_loss: 1.4160 - val_accuracy: 0.6810\n",
            "Epoch 3/10\n",
            "16/16 [==============================] - 1s 50ms/step - loss: 1.1969 - accuracy: 0.7331 - val_loss: 1.2044 - val_accuracy: 0.7370\n",
            "Epoch 4/10\n",
            "16/16 [==============================] - 1s 47ms/step - loss: 0.9763 - accuracy: 0.7859 - val_loss: 1.1375 - val_accuracy: 0.7490\n",
            "Epoch 5/10\n",
            "16/16 [==============================] - 1s 51ms/step - loss: 0.8140 - accuracy: 0.8269 - val_loss: 1.0238 - val_accuracy: 0.7840\n",
            "Epoch 6/10\n",
            "16/16 [==============================] - 1s 51ms/step - loss: 0.6793 - accuracy: 0.8584 - val_loss: 0.9892 - val_accuracy: 0.7790\n",
            "Epoch 7/10\n",
            "16/16 [==============================] - 1s 71ms/step - loss: 0.5723 - accuracy: 0.8822 - val_loss: 0.9263 - val_accuracy: 0.8010\n",
            "Epoch 8/10\n",
            "16/16 [==============================] - 1s 90ms/step - loss: 0.4800 - accuracy: 0.9019 - val_loss: 0.9005 - val_accuracy: 0.8100\n",
            "Epoch 9/10\n",
            "16/16 [==============================] - 2s 105ms/step - loss: 0.4075 - accuracy: 0.9148 - val_loss: 0.8859 - val_accuracy: 0.8080\n",
            "Epoch 10/10\n",
            "16/16 [==============================] - 2s 106ms/step - loss: 0.3463 - accuracy: 0.9287 - val_loss: 0.8928 - val_accuracy: 0.8110\n"
          ]
        }
      ]
    },
    {
      "cell_type": "code",
      "source": [
        "results = model.evaluate(x_test, y_test)"
      ],
      "metadata": {
        "colab": {
          "base_uri": "https://localhost:8080/"
        },
        "id": "Emvxvlx1DQaQ",
        "outputId": "02cf645a-8732-4c61-c8d8-b6c8f124c6dc"
      },
      "execution_count": 36,
      "outputs": [
        {
          "output_type": "stream",
          "name": "stdout",
          "text": [
            "71/71 [==============================] - 0s 4ms/step - loss: 0.9509 - accuracy: 0.7832\n"
          ]
        }
      ]
    },
    {
      "cell_type": "markdown",
      "source": [
        "## Comparison with a random classifier\n",
        "We can compare the performace of our classifier with that of a random one. We can copy the test labels, then we shuffle them and we check how many times it happens that the copied label is the same as the original one.   "
      ],
      "metadata": {
        "id": "MaHbaILXEZf4"
      }
    },
    {
      "cell_type": "code",
      "source": [
        "import copy\n",
        "test_labels_copy = copy.copy(test_labels)\n",
        "np.random.shuffle(test_labels_copy)\n",
        "hits_array = np.array(test_labels) == np.array(test_labels_copy)\n",
        "print('Random classifier accuracy. {:.2f}'.format(hits_array.mean()))"
      ],
      "metadata": {
        "colab": {
          "base_uri": "https://localhost:8080/"
        },
        "id": "gx56Gbl7Dxt6",
        "outputId": "d1b141b4-1799-4c43-b606-33606923a2a6"
      },
      "execution_count": 38,
      "outputs": [
        {
          "output_type": "stream",
          "name": "stdout",
          "text": [
            "Random classifier accuracy. 0.19\n"
          ]
        }
      ]
    },
    {
      "cell_type": "code",
      "source": [
        "print('Our classifier is {:.1f} times better than the random one.'.format(results[1] / hits_array.mean()))"
      ],
      "metadata": {
        "colab": {
          "base_uri": "https://localhost:8080/"
        },
        "id": "HdOG3ziKFCNn",
        "outputId": "38e0a62a-f8d9-4be0-8a4e-dbf8db51f689"
      },
      "execution_count": 42,
      "outputs": [
        {
          "output_type": "stream",
          "name": "stdout",
          "text": [
            "Our classifier is 4.2 times better than the random one.\n"
          ]
        }
      ]
    },
    {
      "cell_type": "markdown",
      "source": [
        "We can see the predictions of the class membership of the newswires in the test set. each prediction is a 46 dimensional vector with the probabilities for a newswire to belong to one of the 46 classes."
      ],
      "metadata": {
        "id": "3iNZWAJQGOJF"
      }
    },
    {
      "cell_type": "code",
      "source": [
        "predictions = model.predict(x_test)"
      ],
      "metadata": {
        "colab": {
          "base_uri": "https://localhost:8080/"
        },
        "id": "LAcVLI5YFd0N",
        "outputId": "ca98bc5a-72d0-4518-8f86-7e476bf072be"
      },
      "execution_count": 43,
      "outputs": [
        {
          "output_type": "stream",
          "name": "stdout",
          "text": [
            "71/71 [==============================] - 1s 6ms/step\n"
          ]
        }
      ]
    },
    {
      "cell_type": "code",
      "source": [
        "predictions.shape\n"
      ],
      "metadata": {
        "colab": {
          "base_uri": "https://localhost:8080/"
        },
        "id": "srlg8sBtGAHJ",
        "outputId": "78c109da-87c5-432a-d9c4-49b4c2e78004"
      },
      "execution_count": 44,
      "outputs": [
        {
          "output_type": "execute_result",
          "data": {
            "text/plain": [
              "(2246, 46)"
            ]
          },
          "metadata": {},
          "execution_count": 44
        }
      ]
    },
    {
      "cell_type": "markdown",
      "source": [
        "We can see that the sum of the probabilities for a prediction vector is 1 or very close it."
      ],
      "metadata": {
        "id": "z0NX8eSzG167"
      }
    },
    {
      "cell_type": "code",
      "source": [
        "np.sum(predictions[0])"
      ],
      "metadata": {
        "colab": {
          "base_uri": "https://localhost:8080/"
        },
        "id": "Gy-xYdhbGJpr",
        "outputId": "9a2e586c-0038-428e-f36e-b016edd253ea"
      },
      "execution_count": 45,
      "outputs": [
        {
          "output_type": "execute_result",
          "data": {
            "text/plain": [
              "0.99999994"
            ]
          },
          "metadata": {},
          "execution_count": 45
        }
      ]
    },
    {
      "cell_type": "markdown",
      "source": [
        "We assign a newswire to the class with the largest probablity"
      ],
      "metadata": {
        "id": "JFN361joHNlD"
      }
    },
    {
      "cell_type": "code",
      "source": [
        "np.argmax(predictions[0])"
      ],
      "metadata": {
        "colab": {
          "base_uri": "https://localhost:8080/"
        },
        "id": "ZeqeHE5UHBph",
        "outputId": "d5588915-9e85-4b6c-dcf3-5f6661872fb5"
      },
      "execution_count": 46,
      "outputs": [
        {
          "output_type": "execute_result",
          "data": {
            "text/plain": [
              "3"
            ]
          },
          "metadata": {},
          "execution_count": 46
        }
      ]
    },
    {
      "cell_type": "code",
      "source": [],
      "metadata": {
        "id": "ZmjgpqSMHV1s"
      },
      "execution_count": null,
      "outputs": []
    }
  ]
}